{
 "cells": [
  {
   "cell_type": "code",
   "execution_count": 2,
   "metadata": {},
   "outputs": [
    {
     "name": "stdout",
     "output_type": "stream",
     "text": [
      "Tiago\n"
     ]
    }
   ],
   "source": [
    "nome = \"Tiago\"\n",
    "print(nome)"
   ]
  },
  {
   "cell_type": "code",
   "execution_count": 3,
   "metadata": {},
   "outputs": [
    {
     "data": {
      "text/plain": [
       "'Diogo'"
      ]
     },
     "execution_count": 3,
     "metadata": {},
     "output_type": "execute_result"
    }
   ],
   "source": [
    "nome = \"Diogo\"\n",
    "nome"
   ]
  },
  {
   "cell_type": "code",
   "execution_count": 25,
   "metadata": {},
   "outputs": [
    {
     "data": {
      "text/plain": [
       "37"
      ]
     },
     "execution_count": 25,
     "metadata": {},
     "output_type": "execute_result"
    }
   ],
   "source": [
    "idade = 37\n",
    "idade"
   ]
  },
  {
   "cell_type": "code",
   "execution_count": 26,
   "metadata": {},
   "outputs": [
    {
     "data": {
      "text/plain": [
       "40"
      ]
     },
     "execution_count": 26,
     "metadata": {},
     "output_type": "execute_result"
    }
   ],
   "source": [
    "idade + 3"
   ]
  },
  {
   "cell_type": "code",
   "execution_count": 27,
   "metadata": {},
   "outputs": [
    {
     "data": {
      "text/plain": [
       "40"
      ]
     },
     "execution_count": 27,
     "metadata": {},
     "output_type": "execute_result"
    }
   ],
   "source": [
    "idade = idade + 3\n",
    "idade"
   ]
  },
  {
   "cell_type": "code",
   "execution_count": 33,
   "metadata": {},
   "outputs": [
    {
     "name": "stdout",
     "output_type": "stream",
     "text": [
      "dentro da função\n",
      "44\n"
     ]
    }
   ],
   "source": [
    "def mais_um_ano(idade): \n",
    "    print(\"dentro da função\")\n",
    "    return idade + 1\n",
    "ano = mais_um_ano(43)\n",
    "print(ano)"
   ]
  },
  {
   "cell_type": "code",
   "execution_count": 47,
   "metadata": {},
   "outputs": [
    {
     "data": {
      "text/plain": [
       "['Toy Story 17', 'Matrix', 'Xuxa', 'Venon', 'Duna']"
      ]
     },
     "execution_count": 47,
     "metadata": {},
     "output_type": "execute_result"
    }
   ],
   "source": [
    "filme1 = \"Toy Story 17\"\n",
    "filme2 = \"Matrix\"\n",
    "filme3 = \"Xuxa\"\n",
    "\n",
    "filmes = [\"Toy Story 17\", \"Matrix\", \"Xuxa\", \"Venon\", \"Duna\"]\n",
    "filmes"
   ]
  },
  {
   "cell_type": "code",
   "execution_count": 48,
   "metadata": {},
   "outputs": [
    {
     "name": "stdout",
     "output_type": "stream",
     "text": [
      "A lista de filmes é\n",
      "['Toy Story 17', 'Matrix', 'Xuxa', 'Venon', 'Duna']\n"
     ]
    }
   ],
   "source": [
    "def imprime_filmes(filmes_imprimir):\n",
    "    print(\"A lista de filmes é\")\n",
    "    print(filmes_imprimir)\n",
    "imprime_filmes(filmes)"
   ]
  },
  {
   "cell_type": "code",
   "execution_count": 49,
   "metadata": {},
   "outputs": [
    {
     "data": {
      "text/plain": [
       "'Toy Story 17'"
      ]
     },
     "execution_count": 49,
     "metadata": {},
     "output_type": "execute_result"
    }
   ],
   "source": [
    "#Primeiro filme da lista\n",
    "filmes[0]"
   ]
  },
  {
   "cell_type": "code",
   "execution_count": 50,
   "metadata": {},
   "outputs": [
    {
     "data": {
      "text/plain": [
       "'Duna'"
      ]
     },
     "execution_count": 50,
     "metadata": {},
     "output_type": "execute_result"
    }
   ],
   "source": [
    "#último filme da lista\n",
    "filmes[-1]"
   ]
  },
  {
   "cell_type": "code",
   "execution_count": 51,
   "metadata": {},
   "outputs": [
    {
     "data": {
      "text/plain": [
       "'Venon'"
      ]
     },
     "execution_count": 51,
     "metadata": {},
     "output_type": "execute_result"
    }
   ],
   "source": [
    "#penúltimo da lista\n",
    "filmes[-2]"
   ]
  },
  {
   "cell_type": "code",
   "execution_count": 52,
   "metadata": {},
   "outputs": [
    {
     "data": {
      "text/plain": [
       "['Matrix', 'Xuxa', 'Venon', 'Duna']"
      ]
     },
     "execution_count": 52,
     "metadata": {},
     "output_type": "execute_result"
    }
   ],
   "source": [
    "#posição 1 em diante\n",
    "filmes[1:]"
   ]
  },
  {
   "cell_type": "code",
   "execution_count": 55,
   "metadata": {},
   "outputs": [
    {
     "data": {
      "text/plain": [
       "['Venon', 'Duna']"
      ]
     },
     "execution_count": 55,
     "metadata": {},
     "output_type": "execute_result"
    }
   ],
   "source": [
    "#do penúltimo pra frente\n",
    "filmes[-2:]"
   ]
  },
  {
   "cell_type": "code",
   "execution_count": 57,
   "metadata": {},
   "outputs": [
    {
     "name": "stdout",
     "output_type": "stream",
     "text": [
      "Toy Story 17\n",
      "...\n",
      "Matrix\n",
      "...\n",
      "Xuxa\n",
      "...\n",
      "Venon\n",
      "...\n",
      "Duna\n",
      "...\n",
      "estou fora\n"
     ]
    }
   ],
   "source": [
    "for filme in filmes:\n",
    "    print(filme)\n",
    "    print(\"...\")\n",
    "print(\"estou fora\")"
   ]
  },
  {
   "cell_type": "code",
   "execution_count": 62,
   "metadata": {},
   "outputs": [
    {
     "name": "stdout",
     "output_type": "stream",
     "text": [
      "lista de filmes para imprimir\n",
      "Toy Story 17\n",
      "Matrix\n",
      "Xuxa\n",
      "Venon\n",
      "Duna\n"
     ]
    }
   ],
   "source": [
    "def imprime_filmes(filmes_imprimir):\n",
    "    print(\"lista de filmes para imprimir\")\n",
    "    for filme in filmes_imprimir:\n",
    "        print(filme)\n",
    "imprime_filmes(filmes)"
   ]
  },
  {
   "cell_type": "code",
   "execution_count": 64,
   "metadata": {},
   "outputs": [
    {
     "data": {
      "text/plain": [
       "'Tiago'"
      ]
     },
     "execution_count": 64,
     "metadata": {},
     "output_type": "execute_result"
    }
   ],
   "source": [
    "dados = {\"nome\":\"Tiago\", \"idade\" : 42, \"empresa\": \"Lab82\"}\n",
    "dados[\"nome\"]"
   ]
  }
 ],
 "metadata": {
  "kernelspec": {
   "display_name": "Python 3",
   "language": "python",
   "name": "python3"
  },
  "language_info": {
   "codemirror_mode": {
    "name": "ipython",
    "version": 3
   },
   "file_extension": ".py",
   "mimetype": "text/x-python",
   "name": "python",
   "nbconvert_exporter": "python",
   "pygments_lexer": "ipython3",
   "version": "3.9.6"
  }
 },
 "nbformat": 4,
 "nbformat_minor": 2
}
