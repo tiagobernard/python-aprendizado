{
 "cells": [
  {
   "cell_type": "code",
   "execution_count": 3,
   "metadata": {},
   "outputs": [],
   "source": [
    "import pandas as pd\n",
    "\n",
    "uri = \"https://raw.githubusercontent.com/alura-cursos/introducao-a-data-science/refs/heads/master/aula2.1/movies.csv\"\n",
    "filmes = pd.read_csv(uri) #data frame\n",
    "filmes.columns = [\"filmeId\",\"titulo\", \"generos\"]\n",
    "filmes = filmes.set_index('filmeId')\n",
    "filmes = filmes.join(filmes['generos'].str.get_dummies()).drop('generos', axis=1)\n",
    "filmes ['ano'] = filmes['titulo'].str.extract(r'.*\\((d+)\\)')\n",
    "filmes = filmes.dropna()\n",
    "#filmes.head()"
   ]
  },
  {
   "cell_type": "code",
   "execution_count": 4,
   "metadata": {},
   "outputs": [],
   "source": [
    "uri = \"https://raw.githubusercontent.com/alura-cursos/introducao-a-data-science/refs/heads/master/aula2.1/ratings.csv\"\n",
    "notas = pd.read_csv(uri)\n",
    "notas.columns = [\"usuarioId\",\"filmeId\", \"nota\", \"momento\"]\n",
    "arredondadas = notas['nota'].round(1)\n",
    "#notas.head"
   ]
  },
  {
   "cell_type": "code",
   "execution_count": null,
   "metadata": {},
   "outputs": [],
   "source": [
    "medias = notas.groupby('filmeId')['nota'].mean()\n",
    "filmes = filmes.join(medias).dropna().sort_values('nota', ascending=False).rename(columns={'nota': 'media'})\n",
    "total = notas.groupby('filmeId')['momento'].count()\n",
    "filmes = filmes.join(total)\n",
    "filmes = filmes.rename(columns={'momento' : 'total'})\n",
    "#print(filmes.dtypes)\n",
    "#filmes['total'] = pd.to_numeric(filmes['total'], errors='coerce')\n",
    "#filmes['total'] = filmes['total'].astype(float)\n",
    "filmes = filmes.query(\"total > 50\")\n",
    "filmes['media_categoria'] = (filmes['media']).round(1).values\n",
    "random_filmes = filmes.sample(10)"
   ]
  },
  {
   "cell_type": "code",
   "execution_count": null,
   "metadata": {},
   "outputs": [],
   "source": [
    "filmes.head()"
   ]
  }
 ],
 "metadata": {
  "kernelspec": {
   "display_name": "Python 3",
   "language": "python",
   "name": "python3"
  },
  "language_info": {
   "codemirror_mode": {
    "name": "ipython",
    "version": 3
   },
   "file_extension": ".py",
   "mimetype": "text/x-python",
   "name": "python",
   "nbconvert_exporter": "python",
   "pygments_lexer": "ipython3",
   "version": "3.9.6"
  }
 },
 "nbformat": 4,
 "nbformat_minor": 2
}
